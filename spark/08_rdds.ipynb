{
 "cells": [
  {
   "cell_type": "code",
   "execution_count": 1,
   "metadata": {},
   "outputs": [],
   "source": [
    "import findspark\n",
    "findspark.init()\n",
    "\n",
    "import pyspark  \n",
    "from pyspark.sql import SparkSession\n",
    "import os\n",
    "import pyspark.sql.functions as F"
   ]
  },
  {
   "cell_type": "code",
   "execution_count": 2,
   "metadata": {},
   "outputs": [],
   "source": [
    "spark = SparkSession\\\n",
    "    .builder\\\n",
    "    .master(\"local[*]\")\\\n",
    "    .appName('HelloWorld')\\\n",
    "    .config(\"spark.driver.memory\", \"6G\") \\\n",
    "    .config(\"spark.executor.memory\", \"6G\") \\\n",
    "    .config(\"spark.driver.maxResultSize\", \"6G\") \\\n",
    "    .getOrCreate()\n"
   ]
  },
  {
   "cell_type": "code",
   "execution_count": 3,
   "metadata": {},
   "outputs": [],
   "source": [
    "df_yellow = spark.read.parquet(\"../resources/datasets/yellow/*/*\")\n",
    "df_green = spark.read.parquet(\"../resources/datasets/green/*/*\")"
   ]
  },
  {
   "cell_type": "code",
   "execution_count": 4,
   "metadata": {},
   "outputs": [],
   "source": [
    "from datetime import datetime   \n",
    "\n",
    "rdd = df_yellow\\\n",
    "    .select(\"VendorID\", \"passenger_count\", \"trip_distance\", \"fare_amount\", \"tip_amount\", \"total_amount\",\"tpep_dropoff_datetime\")\\\n",
    "    .rdd\n",
    "rdd.filter(lambda row: row.tpep_dropoff_datetime >= datetime(year=2020,month=1,day=1)).take(5)\n"
   ]
  },
  {
   "cell_type": "code",
   "execution_count": null,
   "metadata": {},
   "outputs": [
    {
     "data": {
      "text/plain": [
       "[7696617,\n",
       " 7866620,\n",
       " 7475949,\n",
       " 7598445,\n",
       " 7213891,\n",
       " 7049370,\n",
       " 6971560,\n",
       " 6896317,\n",
       " 6878111,\n",
       " 6567788,\n",
       " 6310419,\n",
       " 6073357,\n",
       " 0]"
      ]
     },
     "execution_count": 16,
     "metadata": {},
     "output_type": "execute_result"
    }
   ],
   "source": [
    "def apply_model_in_batch(partition):\n",
    "    cnt = 0 \n",
    "    for row in partition:\n",
    "        cnt += 1\n",
    "    return [cnt]\n",
    "\n",
    "rdd.mapPartitions(apply_model_in_batch).collect()"
   ]
  }
 ],
 "metadata": {
  "kernelspec": {
   "display_name": "Python 3",
   "language": "python",
   "name": "python3"
  },
  "language_info": {
   "codemirror_mode": {
    "name": "ipython",
    "version": 3
   },
   "file_extension": ".py",
   "mimetype": "text/x-python",
   "name": "python",
   "nbconvert_exporter": "python",
   "pygments_lexer": "ipython3",
   "version": "3.10.6"
  },
  "orig_nbformat": 4,
  "vscode": {
   "interpreter": {
    "hash": "369f2c481f4da34e4445cda3fffd2e751bd1c4d706f27375911949ba6bb62e1c"
   }
  }
 },
 "nbformat": 4,
 "nbformat_minor": 2
}
