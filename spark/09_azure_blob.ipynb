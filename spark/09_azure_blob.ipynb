{
 "cells": [
  {
   "attachments": {},
   "cell_type": "markdown",
   "metadata": {},
   "source": [
    "# Configuring Spark with Azure Blob Storage\n",
    "\n",
    "## Prerequisites\n",
    "* Azure subscription\n",
    "* Installed Azure CLI\n",
    "* `hadoop-azure` module installed on the cluster located at `%HADOOP_HOME%`\n",
    "  * https://mvnrepository.com/artifact/org.apache.hadoop/hadoop-azure\n",
    "  * All dependencies must be installed"
   ]
  },
  {
   "cell_type": "code",
   "execution_count": 1,
   "metadata": {},
   "outputs": [],
   "source": [
    "import findspark\n",
    "findspark.init()\n",
    "\n",
    "import pyspark  \n",
    "from pyspark.sql import SparkSession\n",
    "import os\n",
    "import pyspark.sql.functions as F"
   ]
  },
  {
   "attachments": {},
   "cell_type": "markdown",
   "metadata": {},
   "source": [
    "## Configuration Files\n",
    "\n",
    "Add the following in your Spark's config file:\n",
    "```\n",
    "    .config(\"fs.azure\", \"org.apache.hadoop.fs.azure.NativeAzureFileSystem\")\\\n",
    "    .config(\"fs.azure.account.key.<Storage account name>.blob.core.windows.net\",\"<Storage account key>\")\\\n",
    "```"
   ]
  },
  {
   "cell_type": "code",
   "execution_count": 3,
   "metadata": {},
   "outputs": [],
   "source": [
    "import json\n",
    "credentials = json.load(open(\"../credentials/credentials.json\"))\n",
    "spark = SparkSession\\\n",
    "    .builder\\\n",
    "    .master(\"local[*]\")\\\n",
    "    .appName('HelloWorld')\\\n",
    "    .config(\"spark.driver.memory\", \"6G\") \\\n",
    "    .config(\"spark.executor.memory\", \"6G\") \\\n",
    "    .config(\"spark.driver.maxResultSize\", \"6G\") \\\n",
    "    .config(\"fs.azure\", \"org.apache.hadoop.fs.azure.NativeAzureFileSystem\")\\\n",
    "    .config(f'fs.azure.account.key.{credentials[\"storage_account_name\"]}.blob.core.windows.net',credentials[\"storage_account_key\"])\\\n",
    "    .getOrCreate()\n",
    "\n"
   ]
  },
  {
   "attachments": {},
   "cell_type": "markdown",
   "metadata": {},
   "source": [
    "### Sample Code\n",
    "Copied from 06_sql.ipynb"
   ]
  },
  {
   "cell_type": "code",
   "execution_count": 5,
   "metadata": {},
   "outputs": [
    {
     "name": "stdout",
     "output_type": "stream",
     "text": [
      "Common columns:  {'mta_tax', 'fare_amount', 'total_amount', 'VendorID', 'DOLocationID', 'tolls_amount', 'RatecodeID', 'tip_amount', 'store_and_fwd_flag', 'payment_type', 'dropoff_datetime', 'extra', 'PULocationID', 'pickup_datetime', 'congestion_surcharge', 'improvement_surcharge', 'passenger_count', 'trip_distance'}\n",
      "Not in both:  {'airport_fee', 'trip_type', 'ehail_fee'}\n"
     ]
    }
   ],
   "source": [
    "df_yellow = spark.read.parquet(\"../resources/datasets/yellow/*/*\")\n",
    "df_green = spark.read.parquet(\"../resources/datasets/green/*/*\")\n",
    "\n",
    "df_green = df_green\\\n",
    "    .withColumnRenamed(\"lpep_pickup_datetime\", \"pickup_datetime\") \\\n",
    "    .withColumnRenamed(\"lpep_dropoff_datetime\", \"dropoff_datetime\")\n",
    "\n",
    "#Same with yellow\n",
    "df_yellow = df_yellow\\\n",
    "    .withColumnRenamed(\"tpep_pickup_datetime\", \"pickup_datetime\") \\\n",
    "    .withColumnRenamed(\"tpep_dropoff_datetime\", \"dropoff_datetime\")\n",
    "\n",
    "common_columns = set(df_yellow.columns) & set(df_green.columns) # intersection of columns using & operator\n",
    "print(\"Common columns: \", common_columns)\n",
    "print(\"Not in both: \", set(df_green.columns).symmetric_difference(set(df_yellow.columns))) # symmetric difference of columns using symmetric_difference() method\n",
    "\n",
    "df_yellow = df_yellow.select(*common_columns).withColumn(\"service_type\", F.lit(\"yellow\"))\n",
    "df_green = df_green.select(*common_columns).withColumn(\"service_type\", F.lit(\"green\"))\n",
    "\n",
    "df_trips_data = df_green.unionAll(df_yellow)"
   ]
  },
  {
   "attachments": {},
   "cell_type": "markdown",
   "metadata": {},
   "source": [
    "### Uploading and downloading files"
   ]
  },
  {
   "cell_type": "code",
   "execution_count": 6,
   "metadata": {},
   "outputs": [],
   "source": [
    "# Uploading\n",
    "df_trips_data.write.option(\"header\", \"true\").parquet(f\"wasbs://zoomcampcontainer@{credentials['storage_account_name']}.blob.core.windows.net/tripsdata\")"
   ]
  },
  {
   "cell_type": "code",
   "execution_count": 7,
   "metadata": {},
   "outputs": [
    {
     "name": "stdout",
     "output_type": "stream",
     "text": [
      "+--------------------+-------------------+-------------------+------------+------------+-------+----------------------+\n",
      "|dispatching_base_num|    pickup_datetime|   dropoff_datetime|PULocationID|DOLocationID|SR_Flag|Affiliated_base_number|\n",
      "+--------------------+-------------------+-------------------+------------+------------+-------+----------------------+\n",
      "|              B00001|2020-01-01 00:30:00|2020-01-01 01:44:00|       264.0|       264.0|   null|                B00001|\n",
      "|              B00001|2020-01-01 00:30:00|2020-01-01 00:47:00|       264.0|       264.0|   null|                B00001|\n",
      "|              B00009|2020-01-01 00:48:00|2020-01-01 01:19:00|       264.0|       264.0|   null|                B00009|\n",
      "|              B00009|2020-01-01 00:34:00|2020-01-01 00:43:00|       264.0|       264.0|   null|                B00009|\n",
      "|              B00009|2020-01-01 00:23:00|2020-01-01 00:32:00|       264.0|       264.0|   null|                B00009|\n",
      "|              B00009|2020-01-01 00:52:00|2020-01-01 01:01:00|       264.0|       264.0|   null|                B00009|\n",
      "|              B00013|2020-01-01 00:20:30|2020-01-01 00:45:52|       264.0|       264.0|   null|                B00013|\n",
      "|              B00013|2020-01-01 00:08:15|2020-01-01 00:12:03|       264.0|       264.0|   null|                B00013|\n",
      "|              B00013|2020-01-01 00:40:30|2020-01-01 01:06:23|       264.0|       264.0|   null|                B00013|\n",
      "|              B00014|2020-01-01 00:53:04|2020-01-01 01:19:13|       264.0|       264.0|   null|                B00014|\n",
      "+--------------------+-------------------+-------------------+------------+------------+-------+----------------------+\n",
      "only showing top 10 rows\n",
      "\n"
     ]
    }
   ],
   "source": [
    "# Downloading\n",
    "fhv_trips = spark.read.parquet(f\"wasbs://zoomcampcontainer@{credentials['storage_account_name']}.blob.core.windows.net/fhv_tripdata_2020.parquet\")\n",
    "fhv_trips.show(10)"
   ]
  }
 ],
 "metadata": {
  "kernelspec": {
   "display_name": "Python 3",
   "language": "python",
   "name": "python3"
  },
  "language_info": {
   "codemirror_mode": {
    "name": "ipython",
    "version": 3
   },
   "file_extension": ".py",
   "mimetype": "text/x-python",
   "name": "python",
   "nbconvert_exporter": "python",
   "pygments_lexer": "ipython3",
   "version": "3.10.6"
  },
  "orig_nbformat": 4,
  "vscode": {
   "interpreter": {
    "hash": "369f2c481f4da34e4445cda3fffd2e751bd1c4d706f27375911949ba6bb62e1c"
   }
  }
 },
 "nbformat": 4,
 "nbformat_minor": 2
}
