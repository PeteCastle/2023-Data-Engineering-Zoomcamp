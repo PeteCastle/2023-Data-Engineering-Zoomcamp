{
 "cells": [
  {
   "attachments": {},
   "cell_type": "markdown",
   "metadata": {},
   "source": [
    "# Spark Clusters\n",
    "\n",
    "### Starting a Spark Cluster\n",
    "`cd $SPARK_HOME/bin`\n",
    "\n",
    "(for powershell)\n",
    "`cd $env:SPARK_HOME\\bin`\n",
    "\n",
    "` spark-class org.apache.spark.deploy.master.Master --host localhost --port 7077 --webui-port 8080`\n",
    "\n",
    "Now when building SparkSessions, you have to specify the master as `spark://localhost:7077`\n",
    "Note to access the Spark UI, you have to enter `http://localhost:8081/`"
   ]
  },
  {
   "cell_type": "code",
   "execution_count": 2,
   "metadata": {},
   "outputs": [],
   "source": [
    "import findspark\n",
    "findspark.init()\n",
    "\n",
    "import pyspark  \n",
    "from pyspark.sql import SparkSession\n",
    "import os\n",
    "import pyspark.sql.functions as F\n",
    "import json"
   ]
  },
  {
   "cell_type": "code",
   "execution_count": 6,
   "metadata": {},
   "outputs": [
    {
     "data": {
      "text/html": [
       "\n",
       "            <div>\n",
       "                <p><b>SparkSession - in-memory</b></p>\n",
       "                \n",
       "        <div>\n",
       "            <p><b>SparkContext</b></p>\n",
       "\n",
       "            <p><a href=\"http://host.docker.internal:4041\">Spark UI</a></p>\n",
       "\n",
       "            <dl>\n",
       "              <dt>Version</dt>\n",
       "                <dd><code>v3.2.3</code></dd>\n",
       "              <dt>Master</dt>\n",
       "                <dd><code>spark://localhost:7077</code></dd>\n",
       "              <dt>AppName</dt>\n",
       "                <dd><code>HelloWorld</code></dd>\n",
       "            </dl>\n",
       "        </div>\n",
       "        \n",
       "            </div>\n",
       "        "
      ],
      "text/plain": [
       "<pyspark.sql.session.SparkSession at 0x1fe7f0d84f0>"
      ]
     },
     "execution_count": 6,
     "metadata": {},
     "output_type": "execute_result"
    }
   ],
   "source": [
    "credentials = json.load(open(\"../credentials/credentials.json\"))\n",
    "spark = SparkSession\\\n",
    "    .builder\\\n",
    "    .master(\"spark://localhost:7077\")\\\n",
    "    .appName('HelloWorld')\\\n",
    "    .config(\"spark.driver.memory\", \"6G\") \\\n",
    "    .config(\"spark.executor.memory\", \"6G\") \\\n",
    "    .config(\"spark.driver.maxResultSize\", \"6G\") \\\n",
    "    .config(\"fs.azure\", \"org.apache.hadoop.fs.azure.NativeAzureFileSystem\")\\\n",
    "    .config(f'fs.azure.account.key.{credentials[\"storage_account_name\"]}.blob.core.windows.net',credentials[\"storage_account_key\"])\\\n",
    "    .getOrCreate()\n",
    "\n",
    "spark"
   ]
  },
  {
   "attachments": {},
   "cell_type": "markdown",
   "metadata": {},
   "source": [
    "### Starting a worker\n",
    "\n",
    "`spark-class org.apache.spark.deploy.worker.Worker spark://localhost:7077 --host localhost`\n",
    "\n",
    "Now, attempt to test the code below.  *Copied from 09_azure_blob.ipynb*"
   ]
  },
  {
   "cell_type": "code",
   "execution_count": 10,
   "metadata": {},
   "outputs": [
    {
     "name": "stdout",
     "output_type": "stream",
     "text": [
      "+------------------+------------+----------+--------------------+---------------+---------------------+----------+-----------+-------------+------------+--------+------------+-------------------+-------+------------+-------------------+------------+-----+------------+\n",
      "|store_and_fwd_flag|tolls_amount|RatecodeID|congestion_surcharge|passenger_count|improvement_surcharge|tip_amount|fare_amount|trip_distance|payment_type|VendorID|PULocationID|    pickup_datetime|mta_tax|total_amount|   dropoff_datetime|DOLocationID|extra|service_type|\n",
      "+------------------+------------+----------+--------------------+---------------+---------------------+----------+-----------+-------------+------------+--------+------------+-------------------+-------+------------+-------------------+------------+-----+------------+\n",
      "|                 N|         0.0|       1.0|                null|            5.0|                  0.3|       0.0|        3.0|          0.0|         2.0|       2|         264|2018-12-21 23:17:29|    0.5|         4.3|2018-12-21 23:18:57|         264|  0.5|       green|\n",
      "|                 N|         0.0|       1.0|                null|            2.0|                  0.3|       0.0|        6.0|         0.86|         2.0|       2|          97|2019-01-01 08:10:16|    0.5|         7.3|2019-01-01 08:16:32|          49|  0.5|       green|\n",
      "|                 N|         0.0|       1.0|                null|            2.0|                  0.3|       0.0|        4.5|         0.66|         1.0|       2|          49|2019-01-01 08:27:11|    0.5|         5.8|2019-01-01 08:31:38|         189|  0.5|       green|\n",
      "|                 N|         0.0|       1.0|                null|            2.0|                  0.3|      2.96|       13.5|         2.68|         1.0|       2|         189|2019-01-01 08:46:20|    0.5|       19.71|2019-01-01 09:04:54|          17|  0.5|       green|\n",
      "|                 N|         0.0|       1.0|                null|            1.0|                  0.3|       0.0|       18.0|         4.53|         2.0|       2|          82|2019-01-01 08:19:06|    0.5|        19.3|2019-01-01 08:39:43|         258|  0.5|       green|\n",
      "+------------------+------------+----------+--------------------+---------------+---------------------+----------+-----------+-------------+------------+--------+------------+-------------------+-------+------------+-------------------+------------+-----+------------+\n",
      "only showing top 5 rows\n",
      "\n"
     ]
    }
   ],
   "source": [
    "df_yellow = spark.read.parquet(\"../resources/datasets/yellow/*/*\")\n",
    "df_green = spark.read.parquet(\"../resources/datasets/green/*/*\")\n",
    "\n",
    "df_green = df_green\\\n",
    "    .withColumnRenamed(\"lpep_pickup_datetime\", \"pickup_datetime\") \\\n",
    "    .withColumnRenamed(\"lpep_dropoff_datetime\", \"dropoff_datetime\")\n",
    "\n",
    "#Same with yellow\n",
    "df_yellow = df_yellow\\\n",
    "    .withColumnRenamed(\"tpep_pickup_datetime\", \"pickup_datetime\") \\\n",
    "    .withColumnRenamed(\"tpep_dropoff_datetime\", \"dropoff_datetime\")\n",
    "\n",
    "common_columns = set(df_yellow.columns) & set(df_green.columns) # intersection of columns using & operator\n",
    "\n",
    "df_yellow = df_yellow.select(*common_columns).withColumn(\"service_type\", F.lit(\"yellow\"))\n",
    "df_green = df_green.select(*common_columns).withColumn(\"service_type\", F.lit(\"green\"))\n",
    "\n",
    "df_trips_data = df_green.unionAll(df_yellow)\n",
    "\n",
    "df_trips_data.show(5)"
   ]
  },
  {
   "attachments": {},
   "cell_type": "markdown",
   "metadata": {},
   "source": [
    "### Converting to script\n",
    "`jupyter nbconvert --to=script \"./spark/10_spark_cluster.ipynb\"`"
   ]
  },
  {
   "cell_type": "code",
   "execution_count": null,
   "metadata": {},
   "outputs": [],
   "source": [
    "df_trips_data.write.option(\"header\", \"true\").parquet(f\"wasbs://zoomcampcontainer@{credentials['storage_account_name']}.blob.core.windows.net/tripsdata\")"
   ]
  },
  {
   "attachments": {},
   "cell_type": "markdown",
   "metadata": {},
   "source": [
    "Now, you can run the script from the command line.  This is useful for running on a cluster.\n",
    "\n",
    "`python 10_spark_cluster.py`"
   ]
  },
  {
   "attachments": {},
   "cell_type": "markdown",
   "metadata": {},
   "source": [
    "With argument passing:\n",
    "\n",
    "`python 10_spark_cluster.py --input_green \"2019/*\" --input_yellow \"2019/*\" --output \"trips_new/tripsdata_2019\"`\n",
    "\n",
    "```\n",
    "    (From the source Code)\n",
    "    parser = argparse.ArgumentParser()\n",
    "    parser.add_argument('--input_green', required=False, default=\"*/*\")\n",
    "    parser.add_argument('--input_yellow', required=False, default=\"*/*\")\n",
    "    parser.add_argument('--output', required=False, default='tripsdata')\n",
    "```"
   ]
  },
  {
   "attachments": {},
   "cell_type": "markdown",
   "metadata": {},
   "source": [
    "### Spark Submits\n",
    "What is a spark submit?\n",
    "spark-submit is a command-line tool provided by Apache Spark that allows users to submit their Spark applications to a cluster for execution. It is the primary interface used for running Spark applications on a cluster, and it takes care of setting up the application environment, packaging the application code and its dependencies, and launching the application on the cluster.\n",
    "\n",
    "`spark-submit --master spark://localhost:7077 --executor-memory 4G --total-executor-cores 2 10_spark_cluster.py --input_green \"2019/*\" --input_yellow \"2019/*\" --output \"trips_new_spark_submit/tripsdata_2019\"`"
   ]
  }
 ],
 "metadata": {
  "kernelspec": {
   "display_name": "Python 3",
   "language": "python",
   "name": "python3"
  },
  "language_info": {
   "codemirror_mode": {
    "name": "ipython",
    "version": 3
   },
   "file_extension": ".py",
   "mimetype": "text/x-python",
   "name": "python",
   "nbconvert_exporter": "python",
   "pygments_lexer": "ipython3",
   "version": "3.10.6"
  },
  "orig_nbformat": 4,
  "vscode": {
   "interpreter": {
    "hash": "369f2c481f4da34e4445cda3fffd2e751bd1c4d706f27375911949ba6bb62e1c"
   }
  }
 },
 "nbformat": 4,
 "nbformat_minor": 2
}
